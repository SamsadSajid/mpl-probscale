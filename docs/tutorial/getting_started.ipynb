{
 "cells": [
  {
   "cell_type": "markdown",
   "metadata": {},
   "source": [
    "# Getting started with `mpl-probscale`.\n",
    "\n",
    "## Installation\n",
    "`mpl-probscale` is a pure python package. It should be fairly trivial to install from source on any platform. To do that, download or clone from [github](https://github.com/phobson/mpl-probscale), unzip the archive if necessary then do:\n",
    "\n",
    "```\n",
    "cd mpl-probscale # or wherever the setup.py got placed\n",
    "pip install .\n",
    "```\n",
    "\n",
    "I recommend `pip install .` over `python setup.py install` for [reasons I don't fully understand](https://github.com/numpy/numpy/issues/6551)."
   ]
  },
  {
   "cell_type": "code",
   "execution_count": null,
   "metadata": {
    "collapsed": true
   },
   "outputs": [],
   "source": [
    "import warnings\n",
    "warnings.simplefilter('ignore')\n",
    "\n",
    "import numpy\n",
    "from matplotlib import pyplot\n",
    "from scipy import stats\n",
    "import seaborn\n",
    "\n",
    "clear_bkgd = {'axes.facecolor':'none', 'figure.facecolor':'none'}\n",
    "seaborn.set(style='ticks', context='notebook', rc=clear_bkgd)\n",
    "%matplotlib inline"
   ]
  },
  {
   "cell_type": "markdown",
   "metadata": {},
   "source": [
    "## Background\n",
    "\n",
    "To the casual user, you can set matplotlib scales to either \"linear\" or \"log\" (logarithmic). There are others (e.g., logit, symlog), but I haven't seen them too much in the wild.\n",
    "\n",
    "Linear scales are the default:"
   ]
  },
  {
   "cell_type": "code",
   "execution_count": null,
   "metadata": {
    "collapsed": false
   },
   "outputs": [],
   "source": [
    "fig, ax = pyplot.subplots()\n",
    "seaborn.despine(fig=fig)"
   ]
  },
  {
   "cell_type": "markdown",
   "metadata": {},
   "source": [
    "Logarithmic scales can work well when your data cover several orders of magnitude and don't have to be in base 10."
   ]
  },
  {
   "cell_type": "code",
   "execution_count": null,
   "metadata": {
    "collapsed": false
   },
   "outputs": [],
   "source": [
    "fig, (ax1, ax2) = pyplot.subplots(nrows=2, figsize=(8,3))\n",
    "ax1.set_xscale('log')\n",
    "ax1.set_xlim(left=1e-3, right=1e3)\n",
    "ax1.set_xlabel(\"Base 10\")\n",
    "ax1.set_yticks([])\n",
    "\n",
    "ax2.set_xscale('log', basex=2)\n",
    "ax2.set_xlim(left=2**-3, right=2**3)\n",
    "ax2.set_xlabel(\"Base 2\")\n",
    "ax2.set_yticks([])\n",
    "\n",
    "seaborn.despine(fig=fig, left=True)\n"
   ]
  },
  {
   "cell_type": "markdown",
   "metadata": {},
   "source": [
    "### Probabilty Scales "
   ]
  },
  {
   "cell_type": "markdown",
   "metadata": {},
   "source": [
    "`mpl-probscale` let's you use probability scales. All you need to do is import it.\n",
    "\n",
    "Before importing:"
   ]
  },
  {
   "cell_type": "code",
   "execution_count": null,
   "metadata": {
    "collapsed": false
   },
   "outputs": [],
   "source": [
    "try:\n",
    "    fig, ax = pyplot.subplots()\n",
    "    ax.set_xscale('prob')\n",
    "except ValueError as e:\n",
    "    pyplot.close(fig)\n",
    "    print(e)"
   ]
  },
  {
   "cell_type": "markdown",
   "metadata": {},
   "source": [
    "It works after importing. Probability scales default to the standard normal distribution. Not that the formatting is is a percentage-based probability."
   ]
  },
  {
   "cell_type": "code",
   "execution_count": null,
   "metadata": {
    "collapsed": false
   },
   "outputs": [],
   "source": [
    "import probscale\n",
    "fig, ax = pyplot.subplots(figsize=(8, 3))\n",
    "ax.set_xscale('prob')\n",
    "ax.set_xlim(left=0.5, right=99.5)\n",
    "ax.set_xlabel('Normal probability scale (%)')\n",
    "seaborn.despine(fig=fig)"
   ]
  },
  {
   "cell_type": "markdown",
   "metadata": {},
   "source": [
    "You can even use different probability distributions, though it can be tricky. You have to pass a frozen distribution to the `dist` kwarg in `ax.set_[x|y]scale`.\n",
    "\n",
    "Here's a standard normal scale right next to a beta scale ($\\alpha = 1$ and $\\beta = 1$) for comparison"
   ]
  },
  {
   "cell_type": "code",
   "execution_count": null,
   "metadata": {
    "collapsed": false,
    "scrolled": false
   },
   "outputs": [],
   "source": [
    "import paramnormal\n",
    "\n",
    "beta1 = paramnormal.beta(α=3, β=2)\n",
    "beta2 = paramnormal.beta(α=2, β=7)\n",
    "\n",
    "fig, (ax1, ax2, ax3, ax4) = pyplot.subplots(figsize=(8, 5), nrows=4)\n",
    "\n",
    "ax1.set_xscale('prob')\n",
    "ax1.set_xlim(left=2, right=98)\n",
    "ax1.set_xlabel('Normal probability scale')\n",
    "ax1.set_yticks([])\n",
    "\n",
    "ax2.set_xscale('prob', dist=beta1)\n",
    "ax2.set_xlim(left=2, right=98)\n",
    "ax2.set_xlabel('Beta probability scale (α=3, β=2)')\n",
    "ax2.set_yticks([])\n",
    "\n",
    "ax3.set_xscale('prob', dist=beta2)\n",
    "ax3.set_xlim(left=2, right=98)\n",
    "ax3.set_xlabel('Beta probability scale (α=2, β=7)')\n",
    "ax3.set_yticks([])\n",
    "\n",
    "ax4.set_xlim(left=2, right=98)\n",
    "ax4.set_xticks(ax1.get_xticks()[14:-14])\n",
    "ax4.set_xlabel('Linear scale (for reference)')\n",
    "ax4.set_yticks([])\n",
    "\n",
    "seaborn.despine(fig=fig, left=True)\n"
   ]
  },
  {
   "cell_type": "markdown",
   "metadata": {},
   "source": [
    "## Ready-made probability plots\n",
    "`mpl-probscale` ships with a small `viz` module that can help you make a probability plot of a sample.\n",
    "\n",
    "With only the sample data, `probscale.probplot` will create a figure, compute the plotting position and non-exceedance probabilities, and plot everything:"
   ]
  },
  {
   "cell_type": "code",
   "execution_count": null,
   "metadata": {
    "collapsed": false
   },
   "outputs": [],
   "source": [
    "numpy.random.seed(0)\n",
    "sample = paramnormal.normal(μ=4, σ=2).rvs(size=37)\n",
    "\n",
    "fig = probscale.probplot(sample)\n",
    "seaborn.despine(fig=fig)"
   ]
  },
  {
   "cell_type": "markdown",
   "metadata": {},
   "source": [
    "You should specify the matplotlib axes on which the plot should occur if you want to make the plot fancier:"
   ]
  },
  {
   "cell_type": "code",
   "execution_count": null,
   "metadata": {
    "collapsed": false
   },
   "outputs": [],
   "source": [
    "fig, ax = pyplot.subplots(figsize=(7, 3))\n",
    "\n",
    "# feed in the data\n",
    "probscale.probplot(sample, ax=ax)\n",
    "\n",
    "ax.set_ylabel('Normal Values')\n",
    "ax.set_xlabel('Non-exceedance probability')\n",
    "ax.set_xlim(left=1, right=99)\n",
    "seaborn.despine(fig=fig)"
   ]
  },
  {
   "cell_type": "markdown",
   "metadata": {},
   "source": [
    "### Other options"
   ]
  },
  {
   "cell_type": "code",
   "execution_count": null,
   "metadata": {
    "collapsed": false
   },
   "outputs": [],
   "source": [
    "fig, ax = pyplot.subplots(figsize=(3, 7))\n",
    "\n",
    "numpy.random.seed(0)\n",
    "new_sample = paramnormal.lognormal(μ=2.0, σ=0.75).rvs(size=37)\n",
    "\n",
    "probscale.probplot(\n",
    "    new_sample,\n",
    "    ax=ax,\n",
    "    probax='y',        # flip the plot\n",
    "    otherscale='log',  # scale of the non-probability axis\n",
    "    bestfit=True,      # draw a best-fit line\n",
    "    xlabel='Lognormal Values',  # labels and markers...\n",
    "    ylabel='Non-exceedance probability',\n",
    "    scatter_kws=dict(marker='d', zorder=2, mew=1.25, mec='w', markersize=10),\n",
    "    line_kws=dict(color='0.17', linewidth=2.5, zorder=0, alpha=0.75),\n",
    ")\n",
    "\n",
    "ax.set_ylim(bottom=1, top=99)\n",
    "seaborn.despine(fig=fig)"
   ]
  },
  {
   "cell_type": "markdown",
   "metadata": {},
   "source": [
    "### Percentile and Quanitile plots\n",
    "For convenience, you can do percetile and quantile plots with the same function.\n",
    "\n",
    ".. note::\n",
    "   The percentile and probability axes are plotted against the same values. The difference is only that \"percentiles\" are plotted on a linear scale."
   ]
  },
  {
   "cell_type": "code",
   "execution_count": null,
   "metadata": {
    "collapsed": false
   },
   "outputs": [],
   "source": [
    "fig, (ax1, ax2) = pyplot.subplots(ncols=2, figsize=(7, 2))\n",
    "probscale.probplot(sample, ax=ax1, axtype='pp', xlabel='Percentiles')\n",
    "probscale.probplot(sample, ax=ax2, axtype='qq', xlabel='Quantiles')\n",
    "seaborn.despine(fig=fig)"
   ]
  }
 ],
 "metadata": {
  "kernelspec": {
   "display_name": "Python 3",
   "language": "python",
   "name": "python3"
  },
  "language_info": {
   "codemirror_mode": {
    "name": "ipython",
    "version": 3
   },
   "file_extension": ".py",
   "mimetype": "text/x-python",
   "name": "python",
   "nbconvert_exporter": "python",
   "pygments_lexer": "ipython3",
   "version": "3.5.1"
  }
 },
 "nbformat": 4,
 "nbformat_minor": 0
}